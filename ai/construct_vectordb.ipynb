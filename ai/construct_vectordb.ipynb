{
  "cells": [
    {
      "cell_type": "code",
      "execution_count": 14,
      "metadata": {
        "colab": {
          "base_uri": "https://localhost:8080/"
        },
        "id": "JY-v7xDxhF9S",
        "outputId": "af706b72-2df7-49d8-d1d7-0d8cb0036e90"
      },
      "outputs": [
        {
          "name": "stdout",
          "output_type": "stream",
          "text": [
            "Requirement already satisfied: qdrant-client in /usr/local/lib/python3.11/dist-packages (1.14.2)\n",
            "Requirement already satisfied: langchain in /usr/local/lib/python3.11/dist-packages (0.3.24)\n",
            "Requirement already satisfied: langchain-qdrant in /usr/local/lib/python3.11/dist-packages (0.2.0)\n",
            "Requirement already satisfied: langchain_community in /usr/local/lib/python3.11/dist-packages (0.3.23)\n",
            "Requirement already satisfied: langchain_google_genai in /usr/local/lib/python3.11/dist-packages (2.1.4)\n",
            "Requirement already satisfied: grpcio>=1.41.0 in /usr/local/lib/python3.11/dist-packages (from qdrant-client) (1.71.0)\n",
            "Requirement already satisfied: httpx>=0.20.0 in /usr/local/lib/python3.11/dist-packages (from httpx[http2]>=0.20.0->qdrant-client) (0.28.1)\n",
            "Requirement already satisfied: numpy>=1.21 in /usr/local/lib/python3.11/dist-packages (from qdrant-client) (2.0.2)\n",
            "Requirement already satisfied: portalocker<3.0.0,>=2.7.0 in /usr/local/lib/python3.11/dist-packages (from qdrant-client) (2.10.1)\n",
            "Requirement already satisfied: protobuf>=3.20.0 in /usr/local/lib/python3.11/dist-packages (from qdrant-client) (5.29.4)\n",
            "Requirement already satisfied: pydantic!=2.0.*,!=2.1.*,!=2.2.0,>=1.10.8 in /usr/local/lib/python3.11/dist-packages (from qdrant-client) (2.11.4)\n",
            "Requirement already satisfied: urllib3<3,>=1.26.14 in /usr/local/lib/python3.11/dist-packages (from qdrant-client) (2.4.0)\n",
            "Requirement already satisfied: langchain-core<1.0.0,>=0.3.55 in /usr/local/lib/python3.11/dist-packages (from langchain) (0.3.56)\n",
            "Requirement already satisfied: langchain-text-splitters<1.0.0,>=0.3.8 in /usr/local/lib/python3.11/dist-packages (from langchain) (0.3.8)\n",
            "Requirement already satisfied: langsmith<0.4,>=0.1.17 in /usr/local/lib/python3.11/dist-packages (from langchain) (0.3.39)\n",
            "Requirement already satisfied: SQLAlchemy<3,>=1.4 in /usr/local/lib/python3.11/dist-packages (from langchain) (2.0.40)\n",
            "Requirement already satisfied: requests<3,>=2 in /usr/local/lib/python3.11/dist-packages (from langchain) (2.32.3)\n",
            "Requirement already satisfied: PyYAML>=5.3 in /usr/local/lib/python3.11/dist-packages (from langchain) (6.0.2)\n",
            "Requirement already satisfied: aiohttp<4.0.0,>=3.8.3 in /usr/local/lib/python3.11/dist-packages (from langchain_community) (3.11.15)\n",
            "Requirement already satisfied: tenacity!=8.4.0,<10,>=8.1.0 in /usr/local/lib/python3.11/dist-packages (from langchain_community) (9.1.2)\n",
            "Requirement already satisfied: dataclasses-json<0.7,>=0.5.7 in /usr/local/lib/python3.11/dist-packages (from langchain_community) (0.6.7)\n",
            "Requirement already satisfied: pydantic-settings<3.0.0,>=2.4.0 in /usr/local/lib/python3.11/dist-packages (from langchain_community) (2.9.1)\n",
            "Requirement already satisfied: httpx-sse<1.0.0,>=0.4.0 in /usr/local/lib/python3.11/dist-packages (from langchain_community) (0.4.0)\n",
            "Requirement already satisfied: filetype<2.0.0,>=1.2.0 in /usr/local/lib/python3.11/dist-packages (from langchain_google_genai) (1.2.0)\n",
            "Requirement already satisfied: google-ai-generativelanguage<0.7.0,>=0.6.18 in /usr/local/lib/python3.11/dist-packages (from langchain_google_genai) (0.6.18)\n",
            "Requirement already satisfied: aiohappyeyeballs>=2.3.0 in /usr/local/lib/python3.11/dist-packages (from aiohttp<4.0.0,>=3.8.3->langchain_community) (2.6.1)\n",
            "Requirement already satisfied: aiosignal>=1.1.2 in /usr/local/lib/python3.11/dist-packages (from aiohttp<4.0.0,>=3.8.3->langchain_community) (1.3.2)\n",
            "Requirement already satisfied: attrs>=17.3.0 in /usr/local/lib/python3.11/dist-packages (from aiohttp<4.0.0,>=3.8.3->langchain_community) (25.3.0)\n",
            "Requirement already satisfied: frozenlist>=1.1.1 in /usr/local/lib/python3.11/dist-packages (from aiohttp<4.0.0,>=3.8.3->langchain_community) (1.6.0)\n",
            "Requirement already satisfied: multidict<7.0,>=4.5 in /usr/local/lib/python3.11/dist-packages (from aiohttp<4.0.0,>=3.8.3->langchain_community) (6.4.3)\n",
            "Requirement already satisfied: propcache>=0.2.0 in /usr/local/lib/python3.11/dist-packages (from aiohttp<4.0.0,>=3.8.3->langchain_community) (0.3.1)\n",
            "Requirement already satisfied: yarl<2.0,>=1.17.0 in /usr/local/lib/python3.11/dist-packages (from aiohttp<4.0.0,>=3.8.3->langchain_community) (1.20.0)\n",
            "Requirement already satisfied: marshmallow<4.0.0,>=3.18.0 in /usr/local/lib/python3.11/dist-packages (from dataclasses-json<0.7,>=0.5.7->langchain_community) (3.26.1)\n",
            "Requirement already satisfied: typing-inspect<1,>=0.4.0 in /usr/local/lib/python3.11/dist-packages (from dataclasses-json<0.7,>=0.5.7->langchain_community) (0.9.0)\n",
            "Requirement already satisfied: google-api-core!=2.0.*,!=2.1.*,!=2.10.*,!=2.2.*,!=2.3.*,!=2.4.*,!=2.5.*,!=2.6.*,!=2.7.*,!=2.8.*,!=2.9.*,<3.0.0,>=1.34.1 in /usr/local/lib/python3.11/dist-packages (from google-api-core[grpc]!=2.0.*,!=2.1.*,!=2.10.*,!=2.2.*,!=2.3.*,!=2.4.*,!=2.5.*,!=2.6.*,!=2.7.*,!=2.8.*,!=2.9.*,<3.0.0,>=1.34.1->google-ai-generativelanguage<0.7.0,>=0.6.18->langchain_google_genai) (2.24.2)\n",
            "Requirement already satisfied: google-auth!=2.24.0,!=2.25.0,<3.0.0,>=2.14.1 in /usr/local/lib/python3.11/dist-packages (from google-ai-generativelanguage<0.7.0,>=0.6.18->langchain_google_genai) (2.38.0)\n",
            "Requirement already satisfied: proto-plus<2.0.0,>=1.22.3 in /usr/local/lib/python3.11/dist-packages (from google-ai-generativelanguage<0.7.0,>=0.6.18->langchain_google_genai) (1.26.1)\n",
            "Requirement already satisfied: anyio in /usr/local/lib/python3.11/dist-packages (from httpx>=0.20.0->httpx[http2]>=0.20.0->qdrant-client) (4.9.0)\n",
            "Requirement already satisfied: certifi in /usr/local/lib/python3.11/dist-packages (from httpx>=0.20.0->httpx[http2]>=0.20.0->qdrant-client) (2025.4.26)\n",
            "Requirement already satisfied: httpcore==1.* in /usr/local/lib/python3.11/dist-packages (from httpx>=0.20.0->httpx[http2]>=0.20.0->qdrant-client) (1.0.9)\n",
            "Requirement already satisfied: idna in /usr/local/lib/python3.11/dist-packages (from httpx>=0.20.0->httpx[http2]>=0.20.0->qdrant-client) (3.10)\n",
            "Requirement already satisfied: h11>=0.16 in /usr/local/lib/python3.11/dist-packages (from httpcore==1.*->httpx>=0.20.0->httpx[http2]>=0.20.0->qdrant-client) (0.16.0)\n",
            "Requirement already satisfied: h2<5,>=3 in /usr/local/lib/python3.11/dist-packages (from httpx[http2]>=0.20.0->qdrant-client) (4.2.0)\n",
            "Requirement already satisfied: jsonpatch<2.0,>=1.33 in /usr/local/lib/python3.11/dist-packages (from langchain-core<1.0.0,>=0.3.55->langchain) (1.33)\n",
            "Requirement already satisfied: packaging<25,>=23.2 in /usr/local/lib/python3.11/dist-packages (from langchain-core<1.0.0,>=0.3.55->langchain) (24.2)\n",
            "Requirement already satisfied: typing-extensions>=4.7 in /usr/local/lib/python3.11/dist-packages (from langchain-core<1.0.0,>=0.3.55->langchain) (4.13.2)\n",
            "Requirement already satisfied: orjson<4.0.0,>=3.9.14 in /usr/local/lib/python3.11/dist-packages (from langsmith<0.4,>=0.1.17->langchain) (3.10.18)\n",
            "Requirement already satisfied: requests-toolbelt<2.0.0,>=1.0.0 in /usr/local/lib/python3.11/dist-packages (from langsmith<0.4,>=0.1.17->langchain) (1.0.0)\n",
            "Requirement already satisfied: zstandard<0.24.0,>=0.23.0 in /usr/local/lib/python3.11/dist-packages (from langsmith<0.4,>=0.1.17->langchain) (0.23.0)\n",
            "Requirement already satisfied: annotated-types>=0.6.0 in /usr/local/lib/python3.11/dist-packages (from pydantic!=2.0.*,!=2.1.*,!=2.2.0,>=1.10.8->qdrant-client) (0.7.0)\n",
            "Requirement already satisfied: pydantic-core==2.33.2 in /usr/local/lib/python3.11/dist-packages (from pydantic!=2.0.*,!=2.1.*,!=2.2.0,>=1.10.8->qdrant-client) (2.33.2)\n",
            "Requirement already satisfied: typing-inspection>=0.4.0 in /usr/local/lib/python3.11/dist-packages (from pydantic!=2.0.*,!=2.1.*,!=2.2.0,>=1.10.8->qdrant-client) (0.4.0)\n",
            "Requirement already satisfied: python-dotenv>=0.21.0 in /usr/local/lib/python3.11/dist-packages (from pydantic-settings<3.0.0,>=2.4.0->langchain_community) (1.1.0)\n",
            "Requirement already satisfied: charset-normalizer<4,>=2 in /usr/local/lib/python3.11/dist-packages (from requests<3,>=2->langchain) (3.4.1)\n",
            "Requirement already satisfied: greenlet>=1 in /usr/local/lib/python3.11/dist-packages (from SQLAlchemy<3,>=1.4->langchain) (3.2.1)\n",
            "Requirement already satisfied: googleapis-common-protos<2.0.0,>=1.56.2 in /usr/local/lib/python3.11/dist-packages (from google-api-core!=2.0.*,!=2.1.*,!=2.10.*,!=2.2.*,!=2.3.*,!=2.4.*,!=2.5.*,!=2.6.*,!=2.7.*,!=2.8.*,!=2.9.*,<3.0.0,>=1.34.1->google-api-core[grpc]!=2.0.*,!=2.1.*,!=2.10.*,!=2.2.*,!=2.3.*,!=2.4.*,!=2.5.*,!=2.6.*,!=2.7.*,!=2.8.*,!=2.9.*,<3.0.0,>=1.34.1->google-ai-generativelanguage<0.7.0,>=0.6.18->langchain_google_genai) (1.70.0)\n",
            "Requirement already satisfied: grpcio-status<2.0.dev0,>=1.33.2 in /usr/local/lib/python3.11/dist-packages (from google-api-core[grpc]!=2.0.*,!=2.1.*,!=2.10.*,!=2.2.*,!=2.3.*,!=2.4.*,!=2.5.*,!=2.6.*,!=2.7.*,!=2.8.*,!=2.9.*,<3.0.0,>=1.34.1->google-ai-generativelanguage<0.7.0,>=0.6.18->langchain_google_genai) (1.71.0)\n",
            "Requirement already satisfied: cachetools<6.0,>=2.0.0 in /usr/local/lib/python3.11/dist-packages (from google-auth!=2.24.0,!=2.25.0,<3.0.0,>=2.14.1->google-ai-generativelanguage<0.7.0,>=0.6.18->langchain_google_genai) (5.5.2)\n",
            "Requirement already satisfied: pyasn1-modules>=0.2.1 in /usr/local/lib/python3.11/dist-packages (from google-auth!=2.24.0,!=2.25.0,<3.0.0,>=2.14.1->google-ai-generativelanguage<0.7.0,>=0.6.18->langchain_google_genai) (0.4.2)\n",
            "Requirement already satisfied: rsa<5,>=3.1.4 in /usr/local/lib/python3.11/dist-packages (from google-auth!=2.24.0,!=2.25.0,<3.0.0,>=2.14.1->google-ai-generativelanguage<0.7.0,>=0.6.18->langchain_google_genai) (4.9.1)\n",
            "Requirement already satisfied: hyperframe<7,>=6.1 in /usr/local/lib/python3.11/dist-packages (from h2<5,>=3->httpx[http2]>=0.20.0->qdrant-client) (6.1.0)\n",
            "Requirement already satisfied: hpack<5,>=4.1 in /usr/local/lib/python3.11/dist-packages (from h2<5,>=3->httpx[http2]>=0.20.0->qdrant-client) (4.1.0)\n",
            "Requirement already satisfied: jsonpointer>=1.9 in /usr/local/lib/python3.11/dist-packages (from jsonpatch<2.0,>=1.33->langchain-core<1.0.0,>=0.3.55->langchain) (3.0.0)\n",
            "Requirement already satisfied: mypy-extensions>=0.3.0 in /usr/local/lib/python3.11/dist-packages (from typing-inspect<1,>=0.4.0->dataclasses-json<0.7,>=0.5.7->langchain_community) (1.1.0)\n",
            "Requirement already satisfied: sniffio>=1.1 in /usr/local/lib/python3.11/dist-packages (from anyio->httpx>=0.20.0->httpx[http2]>=0.20.0->qdrant-client) (1.3.1)\n",
            "Requirement already satisfied: pyasn1<0.7.0,>=0.6.1 in /usr/local/lib/python3.11/dist-packages (from pyasn1-modules>=0.2.1->google-auth!=2.24.0,!=2.25.0,<3.0.0,>=2.14.1->google-ai-generativelanguage<0.7.0,>=0.6.18->langchain_google_genai) (0.6.1)\n"
          ]
        }
      ],
      "source": [
        "!pip install qdrant-client langchain langchain-qdrant langchain_community langchain_google_genai"
      ]
    },
    {
      "cell_type": "code",
      "execution_count": 15,
      "metadata": {
        "colab": {
          "base_uri": "https://localhost:8080/"
        },
        "id": "wugBWjQU-Jc-",
        "outputId": "d07449f5-c9d7-4f5e-92c5-16ce0f0213b6"
      },
      "outputs": [
        {
          "name": "stdout",
          "output_type": "stream",
          "text": [
            "Drive already mounted at /content/drive; to attempt to forcibly remount, call drive.mount(\"/content/drive\", force_remount=True).\n"
          ]
        }
      ],
      "source": [
        "from google.colab import drive\n",
        "drive.mount('/content/drive')"
      ]
    },
    {
      "cell_type": "code",
      "execution_count": 16,
      "metadata": {
        "colab": {
          "base_uri": "https://localhost:8080/"
        },
        "id": "EnCrqX-LhgBD",
        "outputId": "b7c382ee-b3d4-45a6-8ee6-a91f4e4cab67"
      },
      "outputs": [
        {
          "name": "stdout",
          "output_type": "stream",
          "text": [
            "/content/drive/MyDrive/gdg_solution_challenge\n"
          ]
        }
      ],
      "source": [
        "cd /content/drive/MyDrive/gdg_solution_challenge"
      ]
    },
    {
      "cell_type": "code",
      "execution_count": 17,
      "metadata": {
        "colab": {
          "base_uri": "https://localhost:8080/"
        },
        "id": "rCilo_xNwQGj",
        "outputId": "7beb8ca6-bd61-4195-a707-d29da2ca8caa"
      },
      "outputs": [
        {
          "name": "stdout",
          "output_type": "stream",
          "text": [
            "Requirement already satisfied: google-cloud-translate in /usr/local/lib/python3.11/dist-packages (3.20.2)\n",
            "Requirement already satisfied: google-api-core!=2.0.*,!=2.1.*,!=2.10.*,!=2.2.*,!=2.3.*,!=2.4.*,!=2.5.*,!=2.6.*,!=2.7.*,!=2.8.*,!=2.9.*,<3.0.0,>=1.34.1 in /usr/local/lib/python3.11/dist-packages (from google-api-core[grpc]!=2.0.*,!=2.1.*,!=2.10.*,!=2.2.*,!=2.3.*,!=2.4.*,!=2.5.*,!=2.6.*,!=2.7.*,!=2.8.*,!=2.9.*,<3.0.0,>=1.34.1->google-cloud-translate) (2.24.2)\n",
            "Requirement already satisfied: google-auth!=2.24.0,!=2.25.0,<3.0.0,>=2.14.1 in /usr/local/lib/python3.11/dist-packages (from google-cloud-translate) (2.38.0)\n",
            "Requirement already satisfied: google-cloud-core<3.0.0,>=1.4.4 in /usr/local/lib/python3.11/dist-packages (from google-cloud-translate) (2.4.3)\n",
            "Requirement already satisfied: proto-plus<2.0.0,>=1.22.3 in /usr/local/lib/python3.11/dist-packages (from google-cloud-translate) (1.26.1)\n",
            "Requirement already satisfied: protobuf!=4.21.0,!=4.21.1,!=4.21.2,!=4.21.3,!=4.21.4,!=4.21.5,<7.0.0,>=3.20.2 in /usr/local/lib/python3.11/dist-packages (from google-cloud-translate) (5.29.4)\n",
            "Requirement already satisfied: grpc-google-iam-v1<1.0.0,>=0.14.0 in /usr/local/lib/python3.11/dist-packages (from google-cloud-translate) (0.14.2)\n",
            "Requirement already satisfied: googleapis-common-protos<2.0.0,>=1.56.2 in /usr/local/lib/python3.11/dist-packages (from google-api-core!=2.0.*,!=2.1.*,!=2.10.*,!=2.2.*,!=2.3.*,!=2.4.*,!=2.5.*,!=2.6.*,!=2.7.*,!=2.8.*,!=2.9.*,<3.0.0,>=1.34.1->google-api-core[grpc]!=2.0.*,!=2.1.*,!=2.10.*,!=2.2.*,!=2.3.*,!=2.4.*,!=2.5.*,!=2.6.*,!=2.7.*,!=2.8.*,!=2.9.*,<3.0.0,>=1.34.1->google-cloud-translate) (1.70.0)\n",
            "Requirement already satisfied: requests<3.0.0,>=2.18.0 in /usr/local/lib/python3.11/dist-packages (from google-api-core!=2.0.*,!=2.1.*,!=2.10.*,!=2.2.*,!=2.3.*,!=2.4.*,!=2.5.*,!=2.6.*,!=2.7.*,!=2.8.*,!=2.9.*,<3.0.0,>=1.34.1->google-api-core[grpc]!=2.0.*,!=2.1.*,!=2.10.*,!=2.2.*,!=2.3.*,!=2.4.*,!=2.5.*,!=2.6.*,!=2.7.*,!=2.8.*,!=2.9.*,<3.0.0,>=1.34.1->google-cloud-translate) (2.32.3)\n",
            "Requirement already satisfied: grpcio<2.0dev,>=1.33.2 in /usr/local/lib/python3.11/dist-packages (from google-api-core[grpc]!=2.0.*,!=2.1.*,!=2.10.*,!=2.2.*,!=2.3.*,!=2.4.*,!=2.5.*,!=2.6.*,!=2.7.*,!=2.8.*,!=2.9.*,<3.0.0,>=1.34.1->google-cloud-translate) (1.71.0)\n",
            "Requirement already satisfied: grpcio-status<2.0.dev0,>=1.33.2 in /usr/local/lib/python3.11/dist-packages (from google-api-core[grpc]!=2.0.*,!=2.1.*,!=2.10.*,!=2.2.*,!=2.3.*,!=2.4.*,!=2.5.*,!=2.6.*,!=2.7.*,!=2.8.*,!=2.9.*,<3.0.0,>=1.34.1->google-cloud-translate) (1.71.0)\n",
            "Requirement already satisfied: cachetools<6.0,>=2.0.0 in /usr/local/lib/python3.11/dist-packages (from google-auth!=2.24.0,!=2.25.0,<3.0.0,>=2.14.1->google-cloud-translate) (5.5.2)\n",
            "Requirement already satisfied: pyasn1-modules>=0.2.1 in /usr/local/lib/python3.11/dist-packages (from google-auth!=2.24.0,!=2.25.0,<3.0.0,>=2.14.1->google-cloud-translate) (0.4.2)\n",
            "Requirement already satisfied: rsa<5,>=3.1.4 in /usr/local/lib/python3.11/dist-packages (from google-auth!=2.24.0,!=2.25.0,<3.0.0,>=2.14.1->google-cloud-translate) (4.9.1)\n",
            "Requirement already satisfied: pyasn1<0.7.0,>=0.6.1 in /usr/local/lib/python3.11/dist-packages (from pyasn1-modules>=0.2.1->google-auth!=2.24.0,!=2.25.0,<3.0.0,>=2.14.1->google-cloud-translate) (0.6.1)\n",
            "Requirement already satisfied: charset-normalizer<4,>=2 in /usr/local/lib/python3.11/dist-packages (from requests<3.0.0,>=2.18.0->google-api-core!=2.0.*,!=2.1.*,!=2.10.*,!=2.2.*,!=2.3.*,!=2.4.*,!=2.5.*,!=2.6.*,!=2.7.*,!=2.8.*,!=2.9.*,<3.0.0,>=1.34.1->google-api-core[grpc]!=2.0.*,!=2.1.*,!=2.10.*,!=2.2.*,!=2.3.*,!=2.4.*,!=2.5.*,!=2.6.*,!=2.7.*,!=2.8.*,!=2.9.*,<3.0.0,>=1.34.1->google-cloud-translate) (3.4.1)\n",
            "Requirement already satisfied: idna<4,>=2.5 in /usr/local/lib/python3.11/dist-packages (from requests<3.0.0,>=2.18.0->google-api-core!=2.0.*,!=2.1.*,!=2.10.*,!=2.2.*,!=2.3.*,!=2.4.*,!=2.5.*,!=2.6.*,!=2.7.*,!=2.8.*,!=2.9.*,<3.0.0,>=1.34.1->google-api-core[grpc]!=2.0.*,!=2.1.*,!=2.10.*,!=2.2.*,!=2.3.*,!=2.4.*,!=2.5.*,!=2.6.*,!=2.7.*,!=2.8.*,!=2.9.*,<3.0.0,>=1.34.1->google-cloud-translate) (3.10)\n",
            "Requirement already satisfied: urllib3<3,>=1.21.1 in /usr/local/lib/python3.11/dist-packages (from requests<3.0.0,>=2.18.0->google-api-core!=2.0.*,!=2.1.*,!=2.10.*,!=2.2.*,!=2.3.*,!=2.4.*,!=2.5.*,!=2.6.*,!=2.7.*,!=2.8.*,!=2.9.*,<3.0.0,>=1.34.1->google-api-core[grpc]!=2.0.*,!=2.1.*,!=2.10.*,!=2.2.*,!=2.3.*,!=2.4.*,!=2.5.*,!=2.6.*,!=2.7.*,!=2.8.*,!=2.9.*,<3.0.0,>=1.34.1->google-cloud-translate) (2.4.0)\n",
            "Requirement already satisfied: certifi>=2017.4.17 in /usr/local/lib/python3.11/dist-packages (from requests<3.0.0,>=2.18.0->google-api-core!=2.0.*,!=2.1.*,!=2.10.*,!=2.2.*,!=2.3.*,!=2.4.*,!=2.5.*,!=2.6.*,!=2.7.*,!=2.8.*,!=2.9.*,<3.0.0,>=1.34.1->google-api-core[grpc]!=2.0.*,!=2.1.*,!=2.10.*,!=2.2.*,!=2.3.*,!=2.4.*,!=2.5.*,!=2.6.*,!=2.7.*,!=2.8.*,!=2.9.*,<3.0.0,>=1.34.1->google-cloud-translate) (2025.4.26)\n"
          ]
        }
      ],
      "source": [
        "!pip install google-cloud-translate"
      ]
    },
    {
      "cell_type": "code",
      "execution_count": 18,
      "metadata": {
        "id": "hG39VhLA9DiB"
      },
      "outputs": [],
      "source": [
        "import os\n",
        "from uuid import uuid4\n",
        "from langchain_text_splitters import RecursiveCharacterTextSplitter\n",
        "from langchain.embeddings import HuggingFaceEmbeddings\n",
        "from langchain_community.vectorstores import Qdrant\n",
        "from langchain_google_genai import ChatGoogleGenerativeAI\n",
        "from langchain_core.prompts import ChatPromptTemplate\n",
        "from langchain_core.runnables import RunnableMap\n",
        "from google.cloud import translate_v2 as translate\n",
        "from qdrant_client.http.models import Distance, VectorParams, Filter, FieldCondition, MatchValue"
      ]
    },
    {
      "cell_type": "code",
      "execution_count": 20,
      "metadata": {
        "id": "pBxpU-gGgpD_"
      },
      "outputs": [],
      "source": [
        "# ✅ 환경 변수 설정\n",
        "os.environ[\"GOOGLE_API_KEY\"] = GOOGLE_API_KEY\n",
        "os.environ[\"QDRANT_URL\"] = QDRANT_URL\n",
        "os.environ[\"QDRANT_API_KEY\"] = QDRANT_API_KEY\n",
        "os.environ[\"GOOGLE_APPLICATION_CREDENTIALS\"] = \"./credentials.json\""
      ]
    },
    {
      "cell_type": "code",
      "execution_count": 30,
      "metadata": {
        "id": "HGONLMYct0sT"
      },
      "outputs": [],
      "source": [
        "# ✅ GCP 번역 클라이언트 초기화\n",
        "translate_client = translate.Client()\n",
        "\n",
        "# ✅ 언어 감지 및 번역 관련 유틸\n",
        "LANGUAGE_MAP = {\"ko\": \"Korean\", \"ja\": \"Japanese\", \"zh\": \"Chinese\", \"en\": \"English\"}\n",
        "SUPPORTED_LANGUAGES = LANGUAGE_MAP.keys()\n",
        "\n",
        "def detect_language(text: str) -> str:\n",
        "    \"\"\"입력 문장의 언어를 감지\"\"\"\n",
        "    return translate_client.detect_language(text)[\"language\"]\n",
        "\n",
        "\n",
        "def translate_text(text: str, target_lang: str = \"en\") -> str:\n",
        "    \"\"\"\n",
        "\n",
        "    텍스트를 target_lang으로 번역 (기본 영어)\n",
        "    :param text: 원문 텍스트\n",
        "    :param target_lang: \"ko\", \"ja\", \"zh\", \"en\" 중 선택\n",
        "    :return: 원문, 번역문, 원문언어\n",
        "\n",
        "    \"\"\"\n",
        "\n",
        "    # 이미 대상 언어인 경우 그대로 반환\n",
        "    if detect_language(text) == target_lang:\n",
        "        return text\n",
        "    return translate_client.translate(text, target_language=target_lang)[\"translatedText\"]\n",
        "\n",
        "# ✅ 사용자 입력 준비 (영어 변환)\n",
        "def prepare_input_in_english(user_inputs: dict) -> dict:\n",
        "    source_lang = detect_language(user_inputs[\"symptoms\"])\n",
        "    user_inputs[\"source_lang\"] = source_lang\n",
        "    return {\n",
        "        \"image_analysis\": translate_text(user_inputs[\"image_analysis\"], \"en\"),\n",
        "        \"medical_history\": translate_text(user_inputs[\"medical_history\"], \"en\"),\n",
        "        \"symptoms\": translate_text(user_inputs[\"symptoms\"], \"en\"),\n",
        "    }\n",
        "\n",
        "# ✅ 결과를 target_lang으로 번역\n",
        "def translate_output(output_text: str, target_lang: str) -> str:\n",
        "    if detect_language(output_text) == target_lang:\n",
        "        return output_text\n",
        "    return translate_text(output_text, target_lang=target_lang)\n"
      ]
    },
    {
      "cell_type": "code",
      "execution_count": 22,
      "metadata": {
        "id": "YHoZ2t6w9GyT"
      },
      "outputs": [],
      "source": [
        "# ✅ 폴더 안에 있는 텍스트 파일들을 모두 읽고 나누기\n",
        "def load_and_split_documents(folder_path):\n",
        "    documents = []\n",
        "\n",
        "    # splitter 존재\n",
        "    splitter = RecursiveCharacterTextSplitter(chunk_size=1000, chunk_overlap=200)\n",
        "    for filename in os.listdir(folder_path):\n",
        "        if filename.endswith(\".txt\"):\n",
        "            with open(os.path.join(folder_path, filename), \"r\", encoding=\"utf-8\") as f:\n",
        "                text = f.read()\n",
        "                split_docs = splitter.create_documents([text])\n",
        "                documents.extend(split_docs)\n",
        "    return documents\n",
        "\n",
        "# ✅ 문서 불러오기 및 임베딩\n",
        "docs = load_and_split_documents(\"/content/drive/MyDrive/gdg_solution_challenge/llm_textDB\")\n",
        "embeddings = HuggingFaceEmbeddings(model_name=\"sentence-transformers/paraphrase-multilingual-MiniLM-L12-v2\")\n",
        "\n",
        "\n",
        "# ✅ Qdrant 업로드\n",
        "vector_store = Qdrant.from_documents(\n",
        "    documents=docs,\n",
        "    embedding=embeddings,\n",
        "    url=os.environ[\"QDRANT_URL\"],\n",
        "    api_key=os.environ[\"QDRANT_API_KEY\"],\n",
        "    collection_name=\"disease_collection\",\n",
        "    force_recreate=True,\n",
        ")\n",
        "\n",
        "# 검색기 생성 (상위 3개 문서 반환)\n",
        "retriever = vector_store.as_retriever(search_kwargs={\"k\": 3})"
      ]
    },
    {
      "cell_type": "code",
      "execution_count": 41,
      "metadata": {
        "id": "2YrSNKHaQMue"
      },
      "outputs": [],
      "source": [
        "# ✅ LLM 프롬프트 구성\n",
        "template = \"\"\" You are a professional AI doctor specialized in dermatology.\n",
        "\n",
        "Your task is to analyze patient information and return the top 3 most likely skin diseases with estimated probabilities.\n",
        "Only choose from the following 12 diseases:\n",
        "1. Atopic Dermatitis\n",
        "2. Seborrheic Dermatitis\n",
        "3. Impetigo\n",
        "4. Ringworm\n",
        "5. Chickenpox\n",
        "6. Roseola (Exanthem subitum)\n",
        "7. Contact Dermatitis\n",
        "8. Miliaria\n",
        "9. Milia\n",
        "10. Erythema Toxicum Neonatorum\n",
        "11. Aplasia Cutis Congenita\n",
        "12. Measles\n",
        "13. Noproblem\n",
        "\n",
        "Do not suggest any disease that is not on the list above.\n",
        "If there are no visible symptoms or medical concerns, return \"1. Noproblem - XX%\" with appropriate justification.\n",
        "\n",
        "\n",
        "Here is the patient data:\n",
        "\n",
        "[1. Image Analysis]\n",
        "{image_analysis}\n",
        "\n",
        "[2. Medical History]\n",
        "{medical_history}\n",
        "\n",
        "[3. Symptoms]\n",
        "{symptoms}\n",
        "\n",
        "Relevant context (disease information):\n",
        "{context}\n",
        "\n",
        "1. Disease Name - XX%\n",
        "   - Reason: ...\n",
        "2. Disease Name - XX%\n",
        "   - Reason: ...\n",
        "3. Disease Name - XX%\n",
        "   - Reason: ...\n",
        "\"\"\"\n",
        "\n",
        "prompt = ChatPromptTemplate.from_template(template)\n",
        "\n",
        "# Gemini Pro 모델 초기화\n",
        "# gemini-1.5-pro or gemini-2.0-flash 中 답변을 통한 정성적 성능 비교 바람\n",
        "llm = ChatGoogleGenerativeAI(model=\"gemini-1.5-pro\", temperature=0)\n",
        "\n",
        "\n",
        "# ✅ 문서 -> 문자열 변환\n",
        "def format_docs(docs):\n",
        "    return \"\\n\\n\".join(doc.page_content for doc in docs)\n",
        "\n",
        "# ✅ 문맥 생성기\n",
        "def get_context(x):\n",
        "    docs = retriever.invoke(x[\"symptoms\"])  # 검색 쿼리로 symptoms 사용\n",
        "    return format_docs(docs)\n",
        "\n",
        "\n",
        "# ✅ RAG 체인 구성\n",
        "# 이미지분석, 과거이력, 증상\n",
        "rag_chain = (\n",
        "    RunnableMap({\n",
        "        \"context\": get_context,\n",
        "        \"image_analysis\": lambda x: x[\"image_analysis\"],\n",
        "        \"medical_history\": lambda x: x[\"medical_history\"],\n",
        "        \"symptoms\": lambda x: x[\"symptoms\"],\n",
        "    })\n",
        "\n",
        "    | prompt\n",
        "    | llm\n",
        ")\n",
        "\n",
        "# 전체 처리 체인\n",
        "def run_diagnosis_chain(user_inputs):\n",
        "    if user_inputs.get(\"target_lang\") not in SUPPORTED_LANGUAGES:\n",
        "        raise ValueError(\"지원되지 않는 언어입니다. ko/zh/ja/en 중 하나를 선택하세요.\")\n",
        "\n",
        "    # 1. 영어 기반 입력으로 변환\n",
        "    inputs_en = prepare_input_in_english(user_inputs)\n",
        "\n",
        "    # 2. RAG 실행 (영어)\n",
        "    result_en = rag_chain.invoke(inputs_en)\n",
        "\n",
        "    # 3. 결과를 target 언어로 번역\n",
        "    return translate_output(result_en.content, user_inputs[\"target_lang\"])"
      ]
    },
    {
      "cell_type": "code",
      "execution_count": 42,
      "metadata": {
        "colab": {
          "base_uri": "https://localhost:8080/"
        },
        "id": "jholEYpJ3i_h",
        "outputId": "8bb304dc-a3f4-45ed-98fb-8dadcf86dbb3"
      },
      "outputs": [
        {
          "name": "stdout",
          "output_type": "stream",
          "text": [
            "제공된 정보를 바탕으로 가장 발생 가능성이 높은 피부 질환에 대한 저의 평가는 다음과 같습니다. 1. **비립종 - 60%** - 원인: &quot;기장 씨앗처럼 보이는 흰색 융기&quot;라는 설명은 비립종을 강력하게 시사합니다. 최근 뺨과 이마에 나타난 화이트헤드는 이를 더욱 뒷받침합니다. 2. **지루성 피부염 - 30%** - 원인: 환자는 지루성 피부염 가족력이 있습니다. 가벼운 홍반과 막힌 모공, 그리고 간헐적인 가려움증은 지루성 피부염과 관련이 있을 수 있으며, 특히 환자의 여드름 치료력(지루성 피부염과 겹치는 경우가 있음)을 고려할 때 더욱 그렇습니다. 햇빛에 의한 악화 또한 한 가지 요인입니다. 3. **접촉성 피부염 - 10%** - 이유: 밀리아나 지루성 피부염보다는 발생 가능성이 낮지만, 홍반과 가려움증이 있는 경우 접촉성 피부염을 나타낼 가능성이 있습니다. 특히, 여드름 치료를 받은 적이 있는 경우 자극을 유발할 수 있는 제품을 사용했을 가능성이 있습니다.\n"
          ]
        }
      ],
      "source": [
        "query_inputs = {\n",
        "    \"image_analysis\": \"A 부위: 좁쌀처럼 생긴 흰색 돌기, B 부위: 약한 홍반, C 부위: 모공 막힘\",\n",
        "    \"medical_history\": \"과거 여드름 치료 경험. 지루성 피부염 가족력.\",\n",
        "    \"symptoms\": \"볼과 이마에 최근 좁쌀이 생겼고 햇빛에 의해 악화됨. 간헐적 가려움증.\",\n",
        "    \"target_lang\": \"ko\"\n",
        "}\n",
        "\n",
        "response = run_diagnosis_chain(query_inputs)\n",
        "print(response)"
      ]
    },
    {
      "cell_type": "code",
      "execution_count": 43,
      "metadata": {
        "colab": {
          "base_uri": "https://localhost:8080/"
        },
        "id": "k7gicvJt4QpR",
        "outputId": "6fa213fe-79c5-4b0b-d8d9-11bed4f36f5e"
      },
      "outputs": [
        {
          "name": "stdout",
          "output_type": "stream",
          "text": [
            "Here's my assessment of the patient's condition, based on the provided information:\n",
            "\n",
            "1.  **Seborrheic Dermatitis - 45%**\n",
            "    *   Reason: The patient presents with white bumps, mild erythema, pore clogging, and a family history of seborrheic dermatitis. The description of \"white millet\" on the face, exacerbated by sun exposure and intermittent itching, aligns with the symptoms of seborrheic dermatitis, particularly its presentation on the face.\n",
            "\n",
            "2.  **Milia - 30%**\n",
            "    *   Reason: The description of \"white bumps in the form of millet\" strongly suggests milia. Milia are small, white cysts that commonly appear on the face, particularly the cheeks and forehead.\n",
            "\n",
            "3.  **Contact Dermatitis - 15%**\n",
            "    *   Reason: The patient reports intermittent itching and recently developed white millet on the cheek and forehead, which could be caused by contact dermatitis. The past acne treatment experience may have sensitized the skin, making it more susceptible to irritants or allergens.\n"
          ]
        }
      ],
      "source": [
        "query_inputs = {\n",
        "    \"image_analysis\": \"Part A: White bumps in the form of millet, Part B: Mild erythema, Part C: Pore clogging\",\n",
        "    \"medical_history\": \"Past acne treatment experience. Family history of seborrheic dermatitis.\",\n",
        "    \"symptoms\": \"Recently developed white millet on cheek and forehead, exacerbated by sun exposure. Intermittent itching.\",\n",
        "    \"target_lang\": \"en\"\n",
        "}\n",
        "\n",
        "response = run_diagnosis_chain(query_inputs)\n",
        "print(response)"
      ]
    },
    {
      "cell_type": "code",
      "execution_count": 40,
      "metadata": {
        "colab": {
          "base_uri": "https://localhost:8080/"
        },
        "id": "oV_fTCPAJz_u",
        "outputId": "2f40e072-eb25-4791-92ee-cda00789f406"
      },
      "outputs": [
        {
          "name": "stdout",
          "output_type": "stream",
          "text": [
            "1. 문제 없음 - 99% - 이유: 이미지 분석, 병력 및 보고된 증상 모두 건강한 피부를 나타냅니다. 발진, 혹, 가려움증 또는 기타 피부 이상에 대한 언급은 없습니다. 환자에게 관련 증상이 나타나지 않으므로 제공된 신생아 중독성 홍반, 선천성 피부 무형성증 및 아토피 피부염에 대한 맥락은 무관합니다. 2. 비립종 - &lt;1% - 이유: 명확한 피부 설명을 고려하면 발생 가능성이 매우 낮지만, 비립종은 작고 흰색의 낭종으로, 건강한 피부에도 때때로 존재할 수 있습니다. 비립종은 대개 무증상이며 우려할 필요가 없습니다. 이미지 분석 결과 피부가 &quot;깨끗하다&quot;고 나타나므로 가능성은 희박합니다. 3. 신생아 중독성 홍반 - &lt;1% - 이유: 제공된 텍스트에는 신생아 중독성 홍반이 설명되어 있지만, 환자 데이터에는 발진이나 피부 이상이 없다고 명시되어 있습니다. 이 질환은 발진을 동반하므로, 제공된 정보를 고려할 때 발생 가능성은 매우 낮습니다. &quot;깨끗한 피부&quot; 평가에서 매우 미묘하고 초기 증상을 놓친 경우에만 가능성이 희박한 것으로 간주됩니다.\n"
          ]
        }
      ],
      "source": [
        "query_inputs = {\n",
        "    \"image_analysis\": \"피부 표면은 깨끗하고 염증, 발진, 돌기 없음\",\n",
        "    \"medical_history\": \"피부 질환 이력 없음. 가족력 없음.\",\n",
        "    \"symptoms\": \"피부 이상 무. 가려움, 통증, 발진 없음.\",\n",
        "    \"target_lang\": \"ko\"\n",
        "}\n",
        "response = run_diagnosis_chain(query_inputs)\n",
        "print(response)"
      ]
    },
    {
      "cell_type": "code",
      "execution_count": 26,
      "metadata": {
        "colab": {
          "base_uri": "https://localhost:8080/"
        },
        "id": "wwRI3EtnbAY4",
        "outputId": "9adefea1-1d6e-49b0-9732-f9daa70fcdd2"
      },
      "outputs": [
        {
          "name": "stdout",
          "output_type": "stream",
          "text": [
            "[Document(metadata={'_id': '9a74127b-4d34-484e-be14-66c1d6169022', '_collection_name': 'disease_collection'}, page_content='\"Miliaria\" (Miliaria)'), Document(metadata={'_id': 'b044ceb3-c79c-4409-8a6a-e5f19e6d1751', '_collection_name': 'disease_collection'}, page_content='Language:\\n\\nEnglish'), Document(metadata={'_id': '465957ce-f5be-47e4-b1e8-495e992fbc1a', '_collection_name': 'disease_collection'}, page_content='6lb%3D%26pl%3D0%26plno%3D%26fi%3D0%26langcode%3Den%26upl%3D0%26cufr%3D%26cuto%3D%26howler%3D%26cvrem%3D0%26cvtype%3D0%26cvloc%3D0%26cl%3D0%26upfr%3D%26upto%3D%26primcat%3D%26seccat%3D%26cvcategory%3D*%26restriction%3D%26random%3D%26ispremium%3D1%26flip%3D0%26contributorqt%3D%26plgalleryno%3D%26plpublic%3D0%26viewaspublic%3D0%26isplcurate%3D0%26imageurl%3D%26saveQry%3D%26editorial%3D%26t%3D0%26apaid%3D%7B18B189B6-6A83-41BD-8442-2448A6B7E281%7D%26custspecid%3D14369B5F-24B7-4344-B743-D5DE569A1F46%26filters%3D0')]\n"
          ]
        }
      ],
      "source": [
        "docs = retriever.invoke(\"백선에 대해서 알려줘?\")\n",
        "print(docs)  # 문서가 비어 있다면 문제 있음"
      ]
    }
  ],
  "metadata": {
    "accelerator": "GPU",
    "colab": {
      "gpuType": "T4",
      "provenance": []
    },
    "kernelspec": {
      "display_name": "Python 3",
      "name": "python3"
    },
    "language_info": {
      "name": "python"
    }
  },
  "nbformat": 4,
  "nbformat_minor": 0
}
